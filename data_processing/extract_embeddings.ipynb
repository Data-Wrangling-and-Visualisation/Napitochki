{
 "cells": [
  {
   "cell_type": "code",
   "metadata": {
    "ExecuteTime": {
     "end_time": "2025-03-30T19:13:53.638522Z",
     "start_time": "2025-03-30T19:13:53.634216Z"
    }
   },
   "source": [
    "import os\n",
    "import pymongo\n",
    "import torch\n",
    "import chromadb\n",
    "from PIL import Image\n",
    "from transformers import CLIPProcessor, CLIPModel\n",
    "import requests\n",
    "from io import BytesIO\n",
    "from tqdm import tqdm"
   ],
   "outputs": [],
   "execution_count": 4
  },
  {
   "cell_type": "code",
   "metadata": {
    "ExecuteTime": {
     "end_time": "2025-03-30T19:19:48.764889Z",
     "start_time": "2025-03-30T19:19:48.749370Z"
    }
   },
   "source": [
    "client = pymongo.MongoClient(os.getenv('MONGO_CONNECTION_STRING'))\n",
    "db = client[\"monin\"]\n",
    "collection = db[\"drinks\"]\n",
    "collection"
   ],
   "outputs": [
    {
     "data": {
      "text/plain": [
       "Collection(Database(MongoClient(host=['89.169.174.146:27017'], document_class=dict, tz_aware=False, connect=True), 'monin'), 'drinks')"
      ]
     },
     "execution_count": 17,
     "metadata": {},
     "output_type": "execute_result"
    }
   ],
   "execution_count": 17
  },
  {
   "cell_type": "code",
   "metadata": {
    "ExecuteTime": {
     "end_time": "2025-03-30T19:19:50.588573Z",
     "start_time": "2025-03-30T19:19:50.471975Z"
    }
   },
   "source": [
    "collection.find({})[0]"
   ],
   "outputs": [
    {
     "data": {
      "text/plain": [
       "{'_id': ObjectId('67cdeca2d61baaa7449cc9f0'),\n",
       " 'name': 'Hawaiian Pearl Bubble Tea',\n",
       " 'recipie': ['30 mL Monin Hawaiian Island Syrup',\n",
       "  '150 mL tea',\n",
       "  '60 mL club soda',\n",
       "  '45 mL tapioca bobas',\n",
       "  'Fill serving glass full of ice.',\n",
       "  'Pour ingredients into serving glass in order listed.',\n",
       "  'Stir gently to mix.',\n",
       "  'Add garnish and serve.'],\n",
       " 'category': 'bubble_teas',\n",
       " 'image_url': 'https://monin.blob.core.windows.net/recipe/images/mrd/drink/5125b732-6dea-4287-a76e-fdb0588dc394-2.png',\n",
       " 'drink_url': 'https://monin.us/products/hawaiian-pearl-bubble-tea',\n",
       " 'taste': ['Citrusy', 'Sour']}"
      ]
     },
     "execution_count": 18,
     "metadata": {},
     "output_type": "execute_result"
    }
   ],
   "execution_count": 18
  },
  {
   "cell_type": "code",
   "metadata": {
    "ExecuteTime": {
     "end_time": "2025-03-30T20:08:22.957140Z",
     "start_time": "2025-03-30T19:19:59.552007Z"
    }
   },
   "source": [
    "chroma_client = chromadb.PersistentClient(path=\"./chromadb\")\n",
    "collection_text = chroma_client.get_or_create_collection(name=\"drinks_text\")\n",
    "collection_image = chroma_client.get_or_create_collection(name=\"drinks_image\")\n",
    "collection_combined = chroma_client.get_or_create_collection(name=\"drinks_combined\")\n",
    "\n",
    "device = \"cuda\" if torch.cuda.is_available() else \"cpu\"\n",
    "model = CLIPModel.from_pretrained(\"openai/clip-vit-base-patch32\").to(device)\n",
    "processor = CLIPProcessor.from_pretrained(\"openai/clip-vit-base-patch32\")\n",
    "\n",
    "def get_text_embedding(text_list):\n",
    "    inputs = processor(text=text_list, return_tensors=\"pt\", padding=True).to(device)\n",
    "    with torch.no_grad():\n",
    "        embeddings = model.get_text_features(**inputs)\n",
    "    return embeddings.cpu().numpy().tolist()\n",
    "\n",
    "def get_image_embedding(image_url):\n",
    "    try:\n",
    "        response = requests.get(image_url, timeout=5)\n",
    "        image = Image.open(BytesIO(response.content)).convert(\"RGB\")\n",
    "        inputs = processor(images=image, return_tensors=\"pt\").to(device)\n",
    "        with torch.no_grad():\n",
    "            embedding = model.get_image_features(**inputs)\n",
    "        return embedding.cpu().numpy().tolist()[0]\n",
    "    except Exception as e:\n",
    "        print(f\"Error processing image {image_url}: {e}\")\n",
    "        return None\n",
    "\n",
    "existing_ids = set(collection_text.get(include=[])['ids']) & set(collection_image.get(include=[])['ids']) & set(collection_combined.get(include=[])['ids'])\n",
    "mongo_docs = list(collection.find())\n",
    "filtered_docs = [doc for doc in mongo_docs if str(doc[\"_id\"]) not in existing_ids]\n",
    "\n",
    "for doc in tqdm(filtered_docs, desc=\"Processing new documents\"):\n",
    "    doc_id = str(doc[\"_id\"])\n",
    "    drink_url = doc[\"drink_url\"]\n",
    "    taste_text = \", \".join(doc[\"taste\"]) if \"taste\" in doc else \"\"\n",
    "    image_url = doc.get(\"image_url\", \"\")\n",
    "\n",
    "    taste_embedding = get_text_embedding([taste_text])[0] if taste_text else None\n",
    "    image_embedding = get_image_embedding(image_url) if image_url else None\n",
    "\n",
    "    if taste_embedding:\n",
    "        collection_text.add(\n",
    "            ids=[doc_id],\n",
    "            uris=[drink_url],\n",
    "            embeddings=[taste_embedding]\n",
    "        )\n",
    "\n",
    "    if image_embedding:\n",
    "        collection_image.add(\n",
    "            ids=[doc_id],\n",
    "            uris=[drink_url],\n",
    "            embeddings=[image_embedding]\n",
    "        )\n",
    "\n",
    "    if taste_embedding and image_embedding:\n",
    "        combined_embedding = taste_embedding + image_embedding\n",
    "        collection_combined.add(\n",
    "            ids=[doc_id],\n",
    "            uris=[drink_url],\n",
    "            embeddings=[combined_embedding]\n",
    "        )\n",
    "        \n",
    "\n",
    "    # stored_data = collection_combined.get(ids=[doc_id], include=[\"embeddings\", \"uris\", \"documents\", \"metadatas\"])\n",
    "    # print(f\"Stored in ChromaDB: {stored_data}\")"
   ],
   "outputs": [
    {
     "name": "stderr",
     "output_type": "stream",
     "text": [
      "Processing new documents: 100%|██████████| 2004/2004 [48:14<00:00,  1.44s/it] \n"
     ]
    }
   ],
   "execution_count": 19
  },
  {
   "cell_type": "markdown",
   "metadata": {},
   "source": [
    "### Getting from chromadb, be careful, by default it returns only ids, others will be shown as None.\n",
    "Example, how to deal with it:\n",
    "```\n",
    "stored_data = collection_combined.get(ids=[doc_id], include=[\"embeddings\", \"uris\", \"documents\", \"metadatas\"])\n",
    "```\n"
   ]
  },
  {
   "cell_type": "code",
   "metadata": {
    "ExecuteTime": {
     "end_time": "2025-03-30T20:08:33.632428Z",
     "start_time": "2025-03-30T20:08:23.102158Z"
    }
   },
   "source": [
    "local_text_data = collection_text.get(include=[\"embeddings\", \"uris\", \"documents\", \"metadatas\"])\n",
    "local_image_data = collection_image.get(include=[\"embeddings\", \"uris\", \"documents\", \"metadatas\"])\n",
    "local_combined_data = collection_combined.get(include=[\"embeddings\", \"uris\", \"documents\", \"metadatas\"])\n",
    "\n",
    "\n",
    "chroma_client_remote = chromadb.HttpClient(host=os.environ.get('CHROMA_URL'), port=8000,\n",
    "                         settings=chromadb.config.Settings(\n",
    "                            chroma_client_auth_provider=\"chromadb.auth.token_authn.TokenAuthClientProvider\", \n",
    "                            chroma_client_auth_credentials=os.environ.get('CHROMA_TOKEN')\n",
    "                         ))\n",
    "\n",
    "collection_text_remote = chroma_client_remote.get_or_create_collection(name=\"drinks_text\")\n",
    "collection_image_remote = chroma_client_remote.get_or_create_collection(name=\"drinks_image\")\n",
    "collection_combined_remote = chroma_client_remote.get_or_create_collection(name=\"drinks_combined\")\n",
    "\n",
    "collection_text_remote.add(\n",
    "    ids=local_text_data[\"ids\"],\n",
    "    uris=local_text_data[\"uris\"],\n",
    "    embeddings=local_text_data[\"embeddings\"],\n",
    "    documents=[\"placeholder\"] * len(local_text_data[\"uris\"]),    \n",
    ")\n",
    "\n",
    "collection_image_remote.add(\n",
    "    ids=local_image_data[\"ids\"],\n",
    "    uris=local_image_data[\"uris\"],\n",
    "    embeddings=local_image_data[\"embeddings\"],\n",
    "    documents=[\"placeholder\"] * len(local_text_data[\"uris\"]),    \n",
    ")\n",
    "\n",
    "collection_combined_remote.add(\n",
    "    ids=local_combined_data[\"ids\"],\n",
    "    uris=local_combined_data[\"uris\"],\n",
    "    embeddings=local_combined_data[\"embeddings\"],\n",
    "    documents=[\"placeholder\"] * len(local_text_data[\"uris\"]),    \n",
    ")"
   ],
   "outputs": [],
   "execution_count": 20
  },
  {
   "metadata": {
    "ExecuteTime": {
     "end_time": "2025-03-30T21:21:27.526288Z",
     "start_time": "2025-03-30T21:21:16.198084Z"
    }
   },
   "cell_type": "code",
   "source": [
    "local_text_data = collection_text.get(include=[\"embeddings\", \"uris\", \"documents\", \"metadatas\"])\n",
    "local_image_data = collection_image.get(include=[\"embeddings\", \"uris\", \"documents\", \"metadatas\"])\n",
    "local_combined_data = collection_combined.get(include=[\"embeddings\", \"uris\", \"documents\", \"metadatas\"])\n",
    "\n",
    "\n",
    "chroma_client_remote = chromadb.HttpClient(host=os.environ.get('CHROMA_URL'), port=8000,\n",
    "                         settings=chromadb.config.Settings(\n",
    "                            chroma_client_auth_provider=\"chromadb.auth.token_authn.TokenAuthClientProvider\", \n",
    "                            chroma_client_auth_credentials=os.environ.get('CHROMA_TOKEN')\n",
    "                         ))\n",
    "\n",
    "collection_text_remote = chroma_client_remote.get_or_create_collection(name=\"drinks_text\")\n",
    "collection_image_remote = chroma_client_remote.get_or_create_collection(name=\"drinks_image\")\n",
    "collection_combined_remote = chroma_client_remote.get_or_create_collection(name=\"drinks_combined\")\n",
    "\n",
    "collection_text_remote.add(\n",
    "    ids=local_text_data[\"ids\"],\n",
    "    embeddings=local_text_data[\"embeddings\"],\n",
    "    documents=[\"placeholder\"] * len(local_text_data[\"uris\"]),\n",
    "    metadatas=[{\"uri\": uri} for uri in local_text_data[\"uris\"]]\n",
    ")\n",
    "\n",
    "collection_image_remote.add(\n",
    "    ids=local_image_data[\"ids\"],\n",
    "    embeddings=local_image_data[\"embeddings\"],\n",
    "    documents=[\"placeholder\"] * len(local_image_data[\"uris\"]),\n",
    "    metadatas=[{\"uri\": uri} for uri in local_image_data[\"uris\"]]\n",
    ")\n",
    "\n",
    "collection_combined_remote.add(\n",
    "    ids=local_combined_data[\"ids\"],\n",
    "    embeddings=local_combined_data[\"embeddings\"],\n",
    "    documents=[\"placeholder\"] * len(local_combined_data[\"uris\"]),\n",
    "    metadatas=[{\"uri\": uri} for uri in local_combined_data[\"uris\"]]\n",
    ")\n"
   ],
   "outputs": [],
   "execution_count": 29
  }
 ],
 "metadata": {
  "kernelspec": {
   "display_name": "base",
   "language": "python",
   "name": "python3"
  },
  "language_info": {
   "codemirror_mode": {
    "name": "ipython",
    "version": 3
   },
   "file_extension": ".py",
   "mimetype": "text/x-python",
   "name": "python",
   "nbconvert_exporter": "python",
   "pygments_lexer": "ipython3",
   "version": "3.12.7"
  }
 },
 "nbformat": 4,
 "nbformat_minor": 2
}
