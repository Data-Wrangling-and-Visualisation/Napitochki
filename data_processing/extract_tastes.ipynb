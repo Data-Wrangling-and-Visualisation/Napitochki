{
 "cells": [
  {
   "cell_type": "code",
   "execution_count": 3,
   "metadata": {},
   "outputs": [
    {
     "data": {
      "text/plain": [
       "False"
      ]
     },
     "execution_count": 3,
     "metadata": {},
     "output_type": "execute_result"
    }
   ],
   "source": [
    "from dotenv import load_dotenv\n",
    "import os \n",
    "import pymongo\n",
    "\n",
    "from enum import Enum\n",
    "from pydantic import BaseModel, Field\n",
    "from langchain_ollama import ChatOllama\n",
    "from langchain.prompts import PromptTemplate\n",
    "\n",
    "from tqdm import tqdm\n",
    "import threading\n",
    "\n",
    "load_dotenv()"
   ]
  },
  {
   "cell_type": "code",
   "execution_count": 4,
   "metadata": {},
   "outputs": [],
   "source": [
    "class DrinkTaste(str, Enum):\n",
    "    SWEET = \"Sweet\"\n",
    "    SOUR = \"Sour\"\n",
    "    BITTER = \"Bitter\"\n",
    "    SALTY = \"Salty\"\n",
    "    UMAMI = \"Umami\"\n",
    "    FRUITY = \"Fruity\"\n",
    "    FLORAL = \"Floral\"\n",
    "    SPICY = \"Spicy\"\n",
    "    CREAMY = \"Creamy\"\n",
    "    TART = \"Tart\"\n",
    "    REFRESHING = \"Refreshing\"\n",
    "    RICH = \"Rich\"\n",
    "    LIGHT = \"Light\"\n",
    "    EARTHY = \"Earthy\"\n",
    "    CITRUSY = \"Citrusy\"\n",
    "    HERBAL = \"Herbal\"\n",
    "    MILKY = \"Milky\"\n",
    "\n",
    "VALID_TASTES = {\n",
    "    \"Sweet\", \"Sour\", \"Bitter\", \"Salty\", \"Umami\", \"Fruity\", \"Floral\", \n",
    "    \"Spicy\", \"Creamy\", \"Tart\", \"Refreshing\", \"Rich\", \"Light\", \n",
    "    \"Earthy\", \"Citrusy\", \"Herbal\", \"Milky\"\n",
    "}\n",
    "    \n",
    "class TasteAnalysis(BaseModel):\n",
    "    think: str = Field(default=\"\", description=\"Detailed reasoning for the taste analysis\")\n",
    "    tastes: list[DrinkTaste] = Field(default_factory=list, description=\"Final dominant taste characteristics as a list\")\n",
    "\n",
    "\n",
    "llm = ChatOllama(model=\"deepseek-r1:1.5b\", temperature=0.5, include_raw=True)\n",
    "structured_llm = llm.with_structured_output(TasteAnalysis, method=\"json_schema\")"
   ]
  },
  {
   "cell_type": "code",
   "execution_count": 6,
   "metadata": {},
   "outputs": [],
   "source": [
    "client = pymongo.MongoClient(os.getenv('MONGO_CONNECTION_STRING'))\n",
    "db = client[\"monin\"]\n",
    "collection = db[\"drinks\"]"
   ]
  },
  {
   "cell_type": "code",
   "execution_count": null,
   "metadata": {},
   "outputs": [
    {
     "name": "stderr",
     "output_type": "stream",
     "text": [
      "Processing drinks:  57%|█████▋    | 95/166 [02:03<01:11,  1.01s/it]"
     ]
    },
    {
     "name": "stdout",
     "output_type": "stream",
     "text": [
      "Timeout: Retrying after first attempt...\n"
     ]
    },
    {
     "name": "stderr",
     "output_type": "stream",
     "text": [
      "Processing drinks:  93%|█████████▎| 154/166 [05:02<00:38,  3.18s/it]"
     ]
    },
    {
     "name": "stdout",
     "output_type": "stream",
     "text": [
      "Timeout: Retrying after first attempt...\n"
     ]
    },
    {
     "name": "stderr",
     "output_type": "stream",
     "text": [
      "                                                                    \r"
     ]
    }
   ],
   "source": [
    "prompt = PromptTemplate.from_template(\n",
    "    \"\"\"Analyze the drink recipe and determine the dominant taste characteristics based on the ingredients and their interactions.\n",
    "Taste options:\n",
    "SWEET = \"Sweet\"\n",
    "SOUR = \"Sour\"\n",
    "BITTER = \"Bitter\"\n",
    "SALTY = \"Salty\"\n",
    "UMAMI = \"Umami\"\n",
    "FRUITY = \"Fruity\"\n",
    "FLORAL = \"Floral\"\n",
    "SPICY = \"Spicy\"\n",
    "CREAMY = \"Creamy\"\n",
    "TART = \"Tart\"\n",
    "REFRESHING = \"Refreshing\"\n",
    "RICH = \"Rich\"\n",
    "LIGHT = \"Light\"\n",
    "EARTHY = \"Earthy\"\n",
    "CITRUSY = \"Citrusy\"\n",
    "HERBAL = \"Herbal\"\n",
    "MILKY = \"Milky\"\n",
    "\n",
    "Recipe: {recipe}\n",
    "\n",
    "Output a JSON object with the following structure:\n",
    "{{\n",
    "  \"think\": \"Detailed reasoning for the taste analysis based on the ingredients. Reasoning about it, come up with a logical list of 2-4 flavors, and at the end, in a separate sentence, list them comma-separated and uncluttered.\",\n",
    "  \"tastes\": [\"Pick 2-4 most suitable tastes from \"think\" part and print out them as a comma-separated list without any other words\"]\n",
    "}}\n",
    "\n",
    "The \"think\" part should end with a specific list listed with commas. You get a paycheck for the right list, and a fine for the wrong one. If there is no comma-separated list at the end of the reflection part, you will be fired!\n",
    "\n",
    "Make sure the \"tastes\" list contains only valid options from the provided list. And be careful, all tastes in \"tastes\" should be the same as in ending of \"think\" part.\n",
    "AI:\"\"\"\n",
    ")\n",
    "\n",
    "def invoke_with_timeout(recipe, timeout=30):\n",
    "    result = [None]\n",
    "    def target():\n",
    "        try:\n",
    "            result[0] = structured_llm.invoke(prompt.format(recipe=recipe))\n",
    "        except Exception as e:\n",
    "            result[0] = e\n",
    "\n",
    "    thread = threading.Thread(target=target)\n",
    "    thread.start()\n",
    "    thread.join(timeout)\n",
    "\n",
    "    if thread.is_alive():\n",
    "        return None\n",
    "    return result[0]\n",
    "\n",
    "\n",
    "def get_tastes_result(recipe, timeout=30):\n",
    "    tastes_result = invoke_with_timeout(recipe, timeout)\n",
    "    if tastes_result is None:\n",
    "        print(f\"Timeout: Retrying after first attempt...\")\n",
    "        tastes_result = invoke_with_timeout(recipe, timeout)\n",
    "    return tastes_result\n",
    "\n",
    "\n",
    "drinks_to_process = collection.find({\"taste\": {\"$exists\": False}})\n",
    "total_drinks = collection.count_documents({\"taste\": {\"$exists\": False}})\n",
    "\n",
    "for drink in tqdm(drinks_to_process, total=total_drinks, desc=\"Processing drinks\", leave=False):\n",
    "    recipe = drink['name'] + \"\\n\" + \" \".join(drink['recipie'])\n",
    "\n",
    "    tastes_result = get_tastes_result(recipe)\n",
    "\n",
    "    if tastes_result is None:\n",
    "        print(f\"Timeout: Skipping {drink['name']} after second attempt\")\n",
    "        continue\n",
    "\n",
    "    if tastes_result and tastes_result.tastes:\n",
    "\n",
    "        valid_tastes = [taste for taste in tastes_result.tastes if taste in VALID_TASTES]\n",
    "\n",
    "        if not valid_tastes:\n",
    "            print(f\"Invalid tastes generated for {drink['name']}, retrying...\")\n",
    "            tastes_result = get_tastes_result(recipe)\n",
    "\n",
    "            if tastes_result is None:\n",
    "                print(f\"Timeout: Skipping {drink['name']} after second attempt\")\n",
    "                continue\n",
    "\n",
    "            valid_tastes = [taste for taste in tastes_result.tastes if taste in VALID_TASTES]\n",
    "\n",
    "\n",
    "        if valid_tastes:\n",
    "            collection.update_one(\n",
    "                {\"_id\": drink[\"_id\"]},\n",
    "                {\"$set\": {\"taste\": valid_tastes}}\n",
    "            )\n",
    "        else:\n",
    "            print(f\"Invalid tastes generated for {drink['name']}: {tastes_result.tastes}\")"
   ]
  }
 ],
 "metadata": {
  "kernelspec": {
   "display_name": "base",
   "language": "python",
   "name": "python3"
  },
  "language_info": {
   "codemirror_mode": {
    "name": "ipython",
    "version": 3
   },
   "file_extension": ".py",
   "mimetype": "text/x-python",
   "name": "python",
   "nbconvert_exporter": "python",
   "pygments_lexer": "ipython3",
   "version": "3.12.7"
  }
 },
 "nbformat": 4,
 "nbformat_minor": 2
}
