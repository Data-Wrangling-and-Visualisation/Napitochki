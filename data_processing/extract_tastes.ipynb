{
 "cells": [
  {
   "cell_type": "code",
   "execution_count": 1,
   "metadata": {},
   "outputs": [
    {
     "name": "stderr",
     "output_type": "stream",
     "text": [
      "/home/pc/Documents/envs/main/lib/python3.12/site-packages/IPython/core/interactiveshell.py:3577: LangChainDeprecationWarning: As of langchain-core 0.3.0, LangChain uses pydantic v2 internally. The langchain_core.pydantic_v1 module was a compatibility shim for pydantic v1, and should no longer be used. Please update the code to import from Pydantic directly.\n",
      "\n",
      "For example, replace imports like: `from langchain_core.pydantic_v1 import BaseModel`\n",
      "with: `from pydantic import BaseModel`\n",
      "or the v1 compatibility namespace if you are working in a code base that has not been fully upgraded to pydantic 2 yet. \tfrom pydantic.v1 import BaseModel\n",
      "\n",
      "  exec(code_obj, self.user_global_ns, self.user_ns)\n"
     ]
    },
    {
     "data": {
      "text/plain": [
       "True"
      ]
     },
     "execution_count": 1,
     "metadata": {},
     "output_type": "execute_result"
    }
   ],
   "source": [
    "from dotenv import load_dotenv\n",
    "import os \n",
    "import pymongo\n",
    "\n",
    "from enum import Enum\n",
    "from pydantic import BaseModel \n",
    "from langchain_ollama import ChatOllama\n",
    "from langchain.prompts import PromptTemplate\n",
    "\n",
    "from langchain_core.pydantic_v1 import BaseModel, Field\n",
    "\n",
    "load_dotenv()"
   ]
  },
  {
   "cell_type": "code",
   "execution_count": 2,
   "metadata": {},
   "outputs": [],
   "source": [
    "class DrinkTaste(str, Enum):\n",
    "    SWEET = \"Sweet\"\n",
    "    SOUR = \"Sour\"\n",
    "    BITTER = \"Bitter\"\n",
    "    SALTY = \"Salty\"\n",
    "    UMAMI = \"Umami\"\n",
    "    FRUITY = \"Fruity\"\n",
    "    FLORAL = \"Floral\"\n",
    "    SPICY = \"Spicy\"\n",
    "    CREAMY = \"Creamy\"\n",
    "    TART = \"Tart\"\n",
    "    REFRESHING = \"Refreshing\"\n",
    "    RICH = \"Rich\"\n",
    "    LIGHT = \"Light\"\n",
    "    EARTHY = \"Earthy\"\n",
    "    CITRUSY = \"Citrusy\"\n",
    "    HERBAL = \"Herbal\"\n",
    "    \n",
    "class TasteResponce(BaseModel): \n",
    "    tastes: list[DrinkTaste] = Field(description=f\"Drink tastes like, choose options: {' '.join([x.value for x in DrinkTaste])}\", required=True)\n",
    "        \n",
    "prompt = PromptTemplate.from_template(\n",
    "    \"\"\"Extract the suitable tastes from the provided drink recipe.\n",
    "    Respond with true or false for each taste based on the recipe.\n",
    "    \n",
    "    Possible options:\n",
    "    SWEET = \"Sweet\"\n",
    "    SOUR = \"Sour\"\n",
    "    BITTER = \"Bitter\"\n",
    "    SALTY = \"Salty\"\n",
    "    UMAMI = \"Umami\"\n",
    "    FRUITY = \"Fruity\"\n",
    "    FLORAL = \"Floral\"\n",
    "    SPICY = \"Spicy\"\n",
    "    CREAMY = \"Creamy\"\n",
    "    TART = \"Tart\"\n",
    "    REFRESHING = \"Refreshing\"\n",
    "    RICH = \"Rich\"\n",
    "    LIGHT = \"Light\"\n",
    "    EARTHY = \"Earthy\"\n",
    "    CITRUSY = \"Citrusy\"\n",
    "    HERBAL = \"Herbal\"\n",
    "    \n",
    "    Recipe: {recipe}\n",
    "    AI: \"\"\"\n",
    ")\n",
    "\n",
    "model = ChatOllama(model='mistral').with_structured_output(TasteResponce)"
   ]
  },
  {
   "cell_type": "code",
   "execution_count": 3,
   "metadata": {},
   "outputs": [],
   "source": [
    "client = pymongo.MongoClient(os.getenv('MONGO_CONNECTION_STRING'))\n",
    "db = client[\"monin\"]\n",
    "collection = db[\"drinks\"]"
   ]
  },
  {
   "cell_type": "code",
   "execution_count": 4,
   "metadata": {},
   "outputs": [
    {
     "name": "stdout",
     "output_type": "stream",
     "text": [
      "['Sweet', 'Refreshing', 'Creamy']\n",
      "\n"
     ]
    }
   ],
   "source": [
    "for drink in collection.find({})[:1]:\n",
    "    recipe = drink['name'] + \"\\n\" + \" \".join(drink['recipie'])\n",
    "    tastes = model.invoke(prompt.format(recipe=recipe))\n",
    "    \n",
    "    tastes = list(tastes)[0][1]\n",
    "    tastes = [taste.value for taste in tastes]\n",
    "    print(tastes)\n",
    "    print()"
   ]
  }
 ],
 "metadata": {
  "kernelspec": {
   "display_name": "main",
   "language": "python",
   "name": "python3"
  },
  "language_info": {
   "codemirror_mode": {
    "name": "ipython",
    "version": 3
   },
   "file_extension": ".py",
   "mimetype": "text/x-python",
   "name": "python",
   "nbconvert_exporter": "python",
   "pygments_lexer": "ipython3",
   "version": "3.12.7"
  }
 },
 "nbformat": 4,
 "nbformat_minor": 2
}
