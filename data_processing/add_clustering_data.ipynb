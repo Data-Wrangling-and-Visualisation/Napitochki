{
 "cells": [
  {
   "cell_type": "code",
   "execution_count": 1,
   "metadata": {},
   "outputs": [
    {
     "data": {
      "text/plain": [
       "True"
      ]
     },
     "execution_count": 1,
     "metadata": {},
     "output_type": "execute_result"
    }
   ],
   "source": [
    "from dotenv import load_dotenv\n",
    "import os \n",
    "import pymongo\n",
    "import pandas as pd\n",
    "from tqdm.auto import tqdm\n",
    "\n",
    "load_dotenv()"
   ]
  },
  {
   "cell_type": "code",
   "execution_count": 2,
   "metadata": {},
   "outputs": [],
   "source": [
    "client = pymongo.MongoClient(os.getenv('MONGO_CONNECTION_STRING'))\n",
    "db = client[\"monin\"]\n",
    "collection = db[\"drinks\"]"
   ]
  },
  {
   "cell_type": "code",
   "execution_count": 3,
   "metadata": {},
   "outputs": [
    {
     "data": {
      "text/plain": [
       "{'_id': ObjectId('67cdeca2d61baaa7449cc9f0'),\n",
       " 'name': 'Hawaiian Pearl Bubble Tea',\n",
       " 'recipie': ['30 mL Monin Hawaiian Island Syrup',\n",
       "  '150 mL tea',\n",
       "  '60 mL club soda',\n",
       "  '45 mL tapioca bobas',\n",
       "  'Fill serving glass full of ice.',\n",
       "  'Pour ingredients into serving glass in order listed.',\n",
       "  'Stir gently to mix.',\n",
       "  'Add garnish and serve.'],\n",
       " 'category': 'bubble_teas',\n",
       " 'image_url': 'https://monin.blob.core.windows.net/recipe/images/mrd/drink/5125b732-6dea-4287-a76e-fdb0588dc394-2.png',\n",
       " 'drink_url': 'https://monin.us/products/hawaiian-pearl-bubble-tea',\n",
       " 'taste': ['Citrusy', 'Sour'],\n",
       " 'cluster': 7,\n",
       " 'position': {'text': [-34.186474, -48.2288],\n",
       "  'image': [-16.28633, -11.720665],\n",
       "  'combined': [-43.066746, -16.4077]}}"
      ]
     },
     "execution_count": 3,
     "metadata": {},
     "output_type": "execute_result"
    }
   ],
   "source": [
    "collection.find_one()"
   ]
  },
  {
   "cell_type": "code",
   "execution_count": 11,
   "metadata": {},
   "outputs": [
    {
     "data": {
      "application/vnd.jupyter.widget-view+json": {
       "model_id": "6be37d727add46cf87a7fa0dfc713b42",
       "version_major": 2,
       "version_minor": 0
      },
      "text/plain": [
       "0it [00:00, ?it/s]"
      ]
     },
     "metadata": {},
     "output_type": "display_data"
    },
    {
     "data": {
      "application/vnd.jupyter.widget-view+json": {
       "model_id": "9b3fa4f552864b739d863a59d5b486f9",
       "version_major": 2,
       "version_minor": 0
      },
      "text/plain": [
       "0it [00:00, ?it/s]"
      ]
     },
     "metadata": {},
     "output_type": "display_data"
    },
    {
     "data": {
      "application/vnd.jupyter.widget-view+json": {
       "model_id": "3b0d8470082a406ab4fae5d678b2f8bb",
       "version_major": 2,
       "version_minor": 0
      },
      "text/plain": [
       "0it [00:00, ?it/s]"
      ]
     },
     "metadata": {},
     "output_type": "display_data"
    }
   ],
   "source": [
    "base_path = '../data/'\n",
    "clustering_data = ['text_embeddings_data', 'image_embeddings_data', 'combined_embeddings_data']\n",
    "\n",
    "for data in clustering_data:\n",
    "  field_name = data.split('_')[0]\n",
    "  df = pd.read_csv(os.path.join(base_path, f'{data}.csv'))[['drink_url', 'tsne_x', 'tsne_y', 'cluster']]\n",
    "  \n",
    "  updates = []\n",
    "  for row in tqdm(df.itertuples()):\n",
    "    url, x, y, cluster = row[1], row[2], row[3], row[4]\n",
    "    updates.append(\n",
    "      pymongo.UpdateMany(\n",
    "        {'drink_url': url},\n",
    "        {\n",
    "          # \"$unset\": {'cluster': \"\"}, \n",
    "         \"$set\": {f'position.{field_name}': [x, y], f'cluster.{field_name}': cluster}\n",
    "         }\n",
    "      )\n",
    "    )\n",
    "    # break \n",
    "  \n",
    "  if updates:\n",
    "    collection.bulk_write(updates)"
   ]
  }
 ],
 "metadata": {
  "kernelspec": {
   "display_name": "main",
   "language": "python",
   "name": "python3"
  },
  "language_info": {
   "codemirror_mode": {
    "name": "ipython",
    "version": 3
   },
   "file_extension": ".py",
   "mimetype": "text/x-python",
   "name": "python",
   "nbconvert_exporter": "python",
   "pygments_lexer": "ipython3",
   "version": "3.12.7"
  }
 },
 "nbformat": 4,
 "nbformat_minor": 2
}
