{
 "cells": [
  {
   "cell_type": "code",
   "execution_count": 10,
   "metadata": {},
   "outputs": [
    {
     "data": {
      "text/plain": [
       "True"
      ]
     },
     "execution_count": 10,
     "metadata": {},
     "output_type": "execute_result"
    }
   ],
   "source": [
    "from dotenv import load_dotenv\n",
    "import os \n",
    "import pymongo\n",
    "import pandas as pd\n",
    "from tqdm.auto import tqdm\n",
    "\n",
    "load_dotenv()"
   ]
  },
  {
   "cell_type": "code",
   "execution_count": 7,
   "metadata": {},
   "outputs": [],
   "source": [
    "client = pymongo.MongoClient(os.getenv('MONGO_CONNECTION_STRING'))\n",
    "db = client[\"monin\"]\n",
    "collection = db[\"drinks\"]"
   ]
  },
  {
   "cell_type": "code",
   "execution_count": 8,
   "metadata": {},
   "outputs": [
    {
     "data": {
      "text/plain": [
       "{'_id': ObjectId('67cdeca2d61baaa7449cc9f0'),\n",
       " 'name': 'Hawaiian Pearl Bubble Tea',\n",
       " 'recipie': ['30 mL Monin Hawaiian Island Syrup',\n",
       "  '150 mL tea',\n",
       "  '60 mL club soda',\n",
       "  '45 mL tapioca bobas',\n",
       "  'Fill serving glass full of ice.',\n",
       "  'Pour ingredients into serving glass in order listed.',\n",
       "  'Stir gently to mix.',\n",
       "  'Add garnish and serve.'],\n",
       " 'category': 'bubble_teas',\n",
       " 'image_url': 'https://monin.blob.core.windows.net/recipe/images/mrd/drink/5125b732-6dea-4287-a76e-fdb0588dc394-2.png',\n",
       " 'drink_url': 'https://monin.us/products/hawaiian-pearl-bubble-tea',\n",
       " 'taste': ['Citrusy', 'Sour'],\n",
       " 'cluster': 7,\n",
       " 'position': {'text': [-34.186474, -48.2288],\n",
       "  'image': [-16.28633, -11.720665],\n",
       "  'combined': [-43.066746, -16.4077]}}"
      ]
     },
     "execution_count": 8,
     "metadata": {},
     "output_type": "execute_result"
    }
   ],
   "source": [
    "collection.find_one()"
   ]
  },
  {
   "cell_type": "code",
   "execution_count": 12,
   "metadata": {},
   "outputs": [
    {
     "data": {
      "application/vnd.jupyter.widget-view+json": {
       "model_id": "2b5f8c28b9e64da7b44d2065a0c65c14",
       "version_major": 2,
       "version_minor": 0
      },
      "text/plain": [
       "0it [00:00, ?it/s]"
      ]
     },
     "metadata": {},
     "output_type": "display_data"
    },
    {
     "data": {
      "application/vnd.jupyter.widget-view+json": {
       "model_id": "1e5f4e118572490ea65dc4294e80367b",
       "version_major": 2,
       "version_minor": 0
      },
      "text/plain": [
       "0it [00:00, ?it/s]"
      ]
     },
     "metadata": {},
     "output_type": "display_data"
    },
    {
     "data": {
      "application/vnd.jupyter.widget-view+json": {
       "model_id": "71485e6aaf5440b59cac8bb24a1e70c5",
       "version_major": 2,
       "version_minor": 0
      },
      "text/plain": [
       "0it [00:00, ?it/s]"
      ]
     },
     "metadata": {},
     "output_type": "display_data"
    }
   ],
   "source": [
    "base_path = '../data/'\n",
    "clustering_data = ['text_embeddings_data', 'image_embeddings_data', 'combined_embeddings_data']\n",
    "\n",
    "for data in clustering_data:\n",
    "  field_name = data.split('_')[0]\n",
    "  df = pd.read_csv(os.path.join(base_path, f'{data}.csv'))[['drink_url', 'tsne_x', 'tsne_y', 'cluster']]\n",
    "  \n",
    "  updates = []\n",
    "  for row in tqdm(df.itertuples()):\n",
    "    url, x, y, cluster = row[1], row[2], row[3], row[4]\n",
    "    updates.append(\n",
    "      pymongo.UpdateMany(\n",
    "        {'drink_url': url},\n",
    "        {'$set': {f'position.{field_name}': [x, y], 'cluster': cluster}}\n",
    "      )\n",
    "    )\n",
    "  \n",
    "  if updates:\n",
    "    collection.bulk_write(updates)"
   ]
  }
 ],
 "metadata": {
  "kernelspec": {
   "display_name": "main",
   "language": "python",
   "name": "python3"
  },
  "language_info": {
   "codemirror_mode": {
    "name": "ipython",
    "version": 3
   },
   "file_extension": ".py",
   "mimetype": "text/x-python",
   "name": "python",
   "nbconvert_exporter": "python",
   "pygments_lexer": "ipython3",
   "version": "3.12.7"
  }
 },
 "nbformat": 4,
 "nbformat_minor": 2
}
